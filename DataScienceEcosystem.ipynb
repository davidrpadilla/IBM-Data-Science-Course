{
 "cells": [
  {
   "cell_type": "markdown",
   "id": "e228f3ff-e22e-44bd-a2a4-225da0bbc9ec",
   "metadata": {},
   "source": [
    "# Data Science Tools"
   ]
  },
  {
   "cell_type": "markdown",
   "id": "572cf7ac-3d57-405d-a466-f680052d7aeb",
   "metadata": {},
   "source": [
    "In this notebook, Data Science Tools and Ecosystem are summarized."
   ]
  },
  {
   "cell_type": "markdown",
   "id": "67d76ead-3c05-49a2-a3eb-fa5108ea7e57",
   "metadata": {},
   "source": [
    "Some of the popular languages that Data Scientists use are:\n",
    "1. Python\n",
    "2. SQL\n",
    "3. C++\n",
    "4. R\n",
    "5. Java\n",
    "6. Julia"
   ]
  },
  {
   "cell_type": "markdown",
   "id": "40ae4e75-bace-41c0-8143-e5d8dfd95054",
   "metadata": {},
   "source": [
    "Some of the commonly used libraries used by Data Scientists include:\n",
    "\n",
    "1. Pandas\n",
    "2. NumPy\n",
    "3. Matplotlib\n",
    "4. SciPy"
   ]
  },
  {
   "cell_type": "markdown",
   "id": "50c5c1d3-8363-4de6-946e-aaf62cf26014",
   "metadata": {},
   "source": [
    "|Data Science Tools|\n",
    "|------------------|\n",
    "|Anaconda|\n",
    "|Apache Spark|\n",
    "|R Studio|"
   ]
  },
  {
   "cell_type": "markdown",
   "id": "843bab30-5f26-4550-902e-17632ae8c317",
   "metadata": {},
   "source": [
    "### Below are a few examples of evaluating arithmetic expressions in Python"
   ]
  },
  {
   "cell_type": "code",
   "execution_count": 1,
   "id": "6b9dc56b-310c-4ecd-87fa-9e45d69a5dd8",
   "metadata": {},
   "outputs": [
    {
     "data": {
      "text/plain": [
       "17"
      ]
     },
     "execution_count": 1,
     "metadata": {},
     "output_type": "execute_result"
    }
   ],
   "source": [
    "# This is a simple arithmetic expression to multiply then add integers\n",
    "(3*4)+5"
   ]
  },
  {
   "cell_type": "code",
   "execution_count": 4,
   "id": "4223f50f-5049-4045-af62-d827c73f4130",
   "metadata": {},
   "outputs": [
    {
     "name": "stdout",
     "output_type": "stream",
     "text": [
      "3.3333333333333335\n"
     ]
    }
   ],
   "source": [
    "# This will convert 200 minutes to hours by dividing by 60\n",
    "minutes = 200\n",
    "hours = minutes/60\n",
    "print(hours)"
   ]
  },
  {
   "cell_type": "markdown",
   "id": "7fab9fda-f5de-4d27-85d0-dd5b2565cbaa",
   "metadata": {},
   "source": [
    "**Objectives:**\n",
    " - List popular languages for Data Science\n",
    " - List popular Data Science Tools\n",
    " - Evaluate artihmetic expressions in Python"
   ]
  },
  {
   "cell_type": "markdown",
   "id": "28f42467-2d66-4c3b-a9b1-6ae355a5f232",
   "metadata": {},
   "source": [
    "## Author\n",
    "David Padilla"
   ]
  },
  {
   "cell_type": "code",
   "execution_count": null,
   "id": "2b2b26b5-eb12-4062-8357-18207de4a0bf",
   "metadata": {},
   "outputs": [],
   "source": []
  }
 ],
 "metadata": {
  "kernelspec": {
   "display_name": "Python 3 (ipykernel)",
   "language": "python",
   "name": "python3"
  },
  "language_info": {
   "codemirror_mode": {
    "name": "ipython",
    "version": 3
   },
   "file_extension": ".py",
   "mimetype": "text/x-python",
   "name": "python",
   "nbconvert_exporter": "python",
   "pygments_lexer": "ipython3",
   "version": "3.12.8"
  }
 },
 "nbformat": 4,
 "nbformat_minor": 5
}
